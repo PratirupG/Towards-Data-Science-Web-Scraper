{
 "cells": [
  {
   "cell_type": "code",
   "execution_count": 205,
   "metadata": {},
   "outputs": [],
   "source": [
    "dataset = pa.DataFrame(columns=['Title','Link','Description'])"
   ]
  },
  {
   "cell_type": "code",
   "execution_count": 206,
   "metadata": {},
   "outputs": [],
   "source": [
    "## Scrap website towards data science and store it in a datframe \n",
    "from selenium import webdriver\n",
    "driver = webdriver.Chrome(r'C:\\Users\\BABI\\chromedriver_win32\\chromedriver.exe')\n",
    "\n",
    "topics = ['machine-learning','data-science','programming','artificial-intelligence']\n",
    "documents = []\n",
    "title = []\n",
    "links = []\n",
    "\n",
    "for topic in topics:\n",
    "    driver.get(\"https://towardsdatascience.com/{}/home\".format(topic))\n",
    "    local_link = []\n",
    "    all_titles = driver.find_elements_by_xpath(\"//div[@class='u-letterSpacingTight u-lineHeightTighter u-breakWord u-textOverflowEllipsis u-lineClamp3 u-fontSize24']\")\n",
    "    \n",
    "    #Store title in a list\n",
    "    for items in all_titles:\n",
    "        title.append(items.text)\n",
    "        \n",
    "    #Store all the links in a list\n",
    "    all_links = driver.find_elements_by_xpath(\"//div[@class='col u-xs-marginBottom10 u-paddingLeft0 u-paddingRight0 u-paddingTop15 u-marginBottom30']\")\n",
    "    for items in all_links:\n",
    "        links.append(items.find_element_by_css_selector('a').get_attribute('href'))\n",
    "        local_link.append(items.find_element_by_css_selector('a').get_attribute('href'))\n",
    "        \n",
    "    for link in local_link:\n",
    "        driver = webdriver.Chrome(r'C:\\Users\\BABI\\chromedriver_win32\\chromedriver.exe')\n",
    "        driver.get(str(link))\n",
    "        doc = []\n",
    "        description_p = driver.find_elements_by_tag_name('p')\n",
    "        for para in description_p:\n",
    "            doc.append(para.text)\n",
    "\n",
    "        documents.append(''.join(doc))\n",
    "        \n",
    "        \n",
    "dataset['Title'] = title\n",
    "dataset['Link'] = links\n",
    "dataset['Description'] = documents\n",
    "\n",
    "\n",
    "from selenium import webdriver\n",
    "driver = webdriver.Chrome(r'C:\\Users\\BABI\\chromedriver_win32\\chromedriver.exe')\n",
    "documents = []\n",
    "title = []\n",
    "links = []\n",
    "\n",
    "driver.get(\"https://towardsdatascience.com/data-visualization/home\")\n",
    "all_titles = driver.find_elements_by_xpath(\"//div[@class='u-letterSpacingTight u-lineHeightTighter u-breakWord u-textOverflowEllipsis u-lineClamp3 u-fontSize24']\")\n",
    "\n",
    "#Store title in a list\n",
    "for items in all_titles:\n",
    "    title.append(items.text)\n",
    "\n",
    "#Store all the links in a list\n",
    "all_links = driver.find_elements_by_xpath(\"//div[@class='col u-xs-marginBottom10 u-paddingLeft0 u-paddingRight0 u-paddingTop15 u-marginBottom30']\")\n",
    "for items in all_links:\n",
    "    links.append(items.find_element_by_css_selector('a').get_attribute('href'))\n",
    "    \n",
    "for link in links:\n",
    "    driver = webdriver.Chrome(r'C:\\Users\\BABI\\chromedriver_win32\\chromedriver.exe')\n",
    "    driver.get(str(link))\n",
    "    doc = []\n",
    "    description_p = driver.find_elements_by_tag_name('p')\n",
    "    for para in description_p:\n",
    "        doc.append(para.text)\n",
    "\n",
    "    documents.append(''.join(doc))\n",
    "    \n",
    "\n",
    "dataframe2 = pa.DataFrame(columns=['Title','Link','Description'])\n",
    "dataframe2['Title'] = title\n",
    "dataframe2['Link'] = links\n",
    "dataframe2['Description'] = documents\n",
    "\n",
    "final_dataset = dataset.append(dataframe2)\n",
    "final_dataset.reset_index(drop=True,inplace=True)\n",
    "final_dataset"
   ]
  },
  {
   "cell_type": "code",
   "execution_count": 222,
   "metadata": {},
   "outputs": [],
   "source": [
    "final_dataset.to_csv('towards_data_science.csv')"
   ]
  },
  {
   "cell_type": "code",
   "execution_count": 212,
   "metadata": {},
   "outputs": [],
   "source": []
  },
  {
   "cell_type": "code",
   "execution_count": 216,
   "metadata": {},
   "outputs": [],
   "source": []
  },
  {
   "cell_type": "code",
   "execution_count": 217,
   "metadata": {},
   "outputs": [],
   "source": []
  },
  {
   "cell_type": "code",
   "execution_count": 220,
   "metadata": {},
   "outputs": [],
   "source": []
  },
  {
   "cell_type": "code",
   "execution_count": null,
   "metadata": {},
   "outputs": [],
   "source": []
  },
  {
   "cell_type": "code",
   "execution_count": null,
   "metadata": {},
   "outputs": [],
   "source": []
  },
  {
   "cell_type": "code",
   "execution_count": null,
   "metadata": {},
   "outputs": [],
   "source": []
  },
  {
   "cell_type": "code",
   "execution_count": null,
   "metadata": {},
   "outputs": [],
   "source": []
  },
  {
   "cell_type": "code",
   "execution_count": null,
   "metadata": {},
   "outputs": [],
   "source": []
  },
  {
   "cell_type": "code",
   "execution_count": null,
   "metadata": {},
   "outputs": [],
   "source": []
  }
 ],
 "metadata": {
  "kernelspec": {
   "display_name": "Python 3",
   "language": "python",
   "name": "python3"
  },
  "language_info": {
   "codemirror_mode": {
    "name": "ipython",
    "version": 3
   },
   "file_extension": ".py",
   "mimetype": "text/x-python",
   "name": "python",
   "nbconvert_exporter": "python",
   "pygments_lexer": "ipython3",
   "version": "3.7.1"
  }
 },
 "nbformat": 4,
 "nbformat_minor": 2
}
